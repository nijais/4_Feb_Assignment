{
 "cells": [
  {
   "cell_type": "markdown",
   "id": "0fa76106-97b5-4e5c-934b-ea02d2b2adc2",
   "metadata": {},
   "source": [
    "# Q1. Create a python program to sort the given list of tuples based on integer value using a lambda function. \n",
    "# [('Sachin Tendulkar', 34357), ('Ricky Ponting', 27483), ('Jack Kallis', 25534), ('Virat Kohli', 24936)]\n",
    "\n",
    "lst = [('Sachin Tendulkar', 34357), ('Ricky Ponting', 27483), ('Jack Kallis', 25534), ('Virat Kohli', 24936)]\n",
    "sorted_list = sorted(lst, key = lambda x : x[1] )\n",
    "print(sorted_list)\n",
    "#### output: [('Virat Kohli', 24936), ('Jack Kallis', 25534), ('Ricky Ponting', 27483), ('Sachin Tendulkar', 34357)]"
   ]
  },
  {
   "cell_type": "code",
   "execution_count": null,
   "id": "19b18757-76cb-4758-b4ee-229ae25dbc6e",
   "metadata": {},
   "outputs": [],
   "source": []
  },
  {
   "cell_type": "markdown",
   "id": "bbe77e77-f5e8-4bae-a284-6b2c908c9a8c",
   "metadata": {},
   "source": [
    "# Q2. Write a Python Program to find the squares of all the numbers in the given list of integers using lambda and map functions. \n",
    "# [1, 2, 3, 4, 5, 6, 7, 8, 9, 10]\n",
    "\n",
    "lst = [1, 2, 3, 4, 5, 6, 7, 8, 9, 10]\n",
    "list(map(lambda x : x**2, lst))\n",
    "\n",
    "#### output: [1, 4, 9, 16, 25, 36, 49, 64, 81, 100]"
   ]
  },
  {
   "cell_type": "code",
   "execution_count": null,
   "id": "2f1b8d00-4dac-4fc2-80af-2d8fef8d5f18",
   "metadata": {},
   "outputs": [],
   "source": []
  },
  {
   "cell_type": "markdown",
   "id": "b8cb260e-c14c-41fc-9cf6-ecdb13c474c9",
   "metadata": {},
   "source": [
    "# Q3. Write a python program to convert the given list of integers into a tuple of strings. Use map and lambda functions\n",
    "# Given String: [1, 2, 3, 4, 5, 6, 7, 8, 9, 10]\n",
    "# Expected output: ('1', '2', '3', '4', '5', '6', '7', '8', '9', '10')\n",
    "\n",
    "given_list = [1, 2, 3, 4, 5, 6, 7, 8, 9, 10]\n",
    "tuple(map(lambda x : str(x),given_list))\n",
    "\n",
    "#### output: ('1', '2', '3', '4', '5', '6', '7', '8', '9', '10')"
   ]
  },
  {
   "cell_type": "code",
   "execution_count": null,
   "id": "3ca9f0e9-76f3-48f1-8c03-bc9ac880f4c5",
   "metadata": {},
   "outputs": [],
   "source": []
  },
  {
   "cell_type": "markdown",
   "id": "80705440-a557-417d-8364-ba30fdec2bd8",
   "metadata": {},
   "source": [
    "# Q4. Write a python program using reduce function to compute the product of a list containing numbers from 1 to 25.\n",
    "\n",
    "from functools import reduce\n",
    "list_of_numbers = range(1, 26)\n",
    "product = reduce(lambda x, y: x*y, list_of_numbers)\n",
    "print(product)\n",
    "\n",
    "#### output: 15511210043330985984000000 "
   ]
  },
  {
   "cell_type": "code",
   "execution_count": null,
   "id": "80d1f1d0-50ea-4e2a-a62e-2332c6ab6f88",
   "metadata": {},
   "outputs": [],
   "source": []
  },
  {
   "cell_type": "markdown",
   "id": "ea171e3f-3b08-4b03-9091-5dce52b828ea",
   "metadata": {},
   "source": [
    "# Q5. Write a python program to filter the numbers in a given list that are divisible by 2 and 3 using the filter function.\n",
    "# [2, 3, 6, 9, 27, 60, 90, 120, 55, 46]\n",
    "\n",
    "given_lst = [2, 3, 6, 9, 27, 60, 90, 120, 55, 46]\n",
    "list(filter(lambda x : x%2 == 0 and x%3 == 0, given_lst))\n",
    "\n",
    "#### output: [6, 60, 90, 120]"
   ]
  },
  {
   "cell_type": "code",
   "execution_count": null,
   "id": "10c0e6e2-8ffb-421b-8e12-67b83a768ccb",
   "metadata": {},
   "outputs": [],
   "source": []
  },
  {
   "cell_type": "markdown",
   "id": "3f12ed47-b50e-4bd3-aa3b-e79cec124bad",
   "metadata": {},
   "source": [
    "# Q6. Write a python program to find palindromes in the given list of strings using lambda and filter function.\n",
    "# ['python', 'php', 'aba', 'radar', 'level']\n",
    "\n",
    "given_string = ['python', 'php', 'aba', 'radar', 'level']\n",
    "list(filter(lambda x : x==x[::-1], given_string))\n",
    "#### output: ['php', 'aba', 'radar', 'level']"
   ]
  },
  {
   "cell_type": "code",
   "execution_count": null,
   "id": "b72ce667-6086-40df-bf67-222245ad750b",
   "metadata": {},
   "outputs": [],
   "source": []
  }
 ],
 "metadata": {
  "kernelspec": {
   "display_name": "Python 3 (ipykernel)",
   "language": "python",
   "name": "python3"
  },
  "language_info": {
   "codemirror_mode": {
    "name": "ipython",
    "version": 3
   },
   "file_extension": ".py",
   "mimetype": "text/x-python",
   "name": "python",
   "nbconvert_exporter": "python",
   "pygments_lexer": "ipython3",
   "version": "3.10.8"
  }
 },
 "nbformat": 4,
 "nbformat_minor": 5
}
